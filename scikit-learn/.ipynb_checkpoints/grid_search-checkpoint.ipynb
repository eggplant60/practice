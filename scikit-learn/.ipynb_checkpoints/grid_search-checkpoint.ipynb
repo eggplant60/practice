{
 "cells": [
  {
   "cell_type": "markdown",
   "metadata": {},
   "source": [
    "# Estimator を自分で実装して GridSearch\n",
    "\n",
    "https://qiita.com/_takoika/items/89a7e42dd0dc964d0e29"
   ]
  },
  {
   "cell_type": "code",
   "execution_count": 1,
   "metadata": {},
   "outputs": [
    {
     "name": "stderr",
     "output_type": "stream",
     "text": [
      "/usr/local/lib/anaconda3/lib/python3.6/site-packages/sklearn/cross_validation.py:41: DeprecationWarning: This module was deprecated in version 0.18 in favor of the model_selection module into which all the refactored classes and functions are moved. Also note that the interface of the new CV iterators are different from that of this module. This module will be removed in 0.20.\n",
      "  \"This module will be removed in 0.20.\", DeprecationWarning)\n",
      "/usr/local/lib/anaconda3/lib/python3.6/site-packages/sklearn/grid_search.py:42: DeprecationWarning: This module was deprecated in version 0.18 in favor of the model_selection module into which all the refactored classes and functions are moved. This module will be removed in 0.20.\n",
      "  DeprecationWarning)\n"
     ]
    }
   ],
   "source": [
    "%matplotlib inline\n",
    "import pandas as pd\n",
    "import numpy as np\n",
    "from sklearn import datasets, model_selection\n",
    "\n",
    "# from sklearn.multiclass import OneVsRestClassifier\n",
    "from sklearn.svm import SVC\n",
    "from sklearn.grid_search import GridSearchCV\n",
    "from sklearn.metrics import accuracy_score\n",
    "\n",
    "from sklearn.base import BaseEstimator, ClassifierMixin\n",
    "from sklearn.cross_validation import cross_val_score\n",
    "\n",
    "import seaborn as sns"
   ]
  },
  {
   "cell_type": "markdown",
   "metadata": {},
   "source": [
    "### データを用意"
   ]
  },
  {
   "cell_type": "code",
   "execution_count": 18,
   "metadata": {},
   "outputs": [
    {
     "name": "stdout",
     "output_type": "stream",
     "text": [
      "[0 0 0 0 0 0 0 0 0 0 0 0 0 0 0 0 0 0 0 0 0 0 0 0 0 0 0 0 0 0 0 0 0 0 0 0 0\n",
      " 0 0 0 0 0 0 0 0 0 0 0 0 0 1 1 1 1 1 1 1 1 1 1 1 1 1 1 1 1 1 1 1 1 1 1 1 1\n",
      " 1 1 1 1 1 1 1 1 1 1 1 1 1 1 1 1 1 1 1 1 1 1 1 1 1 1]\n"
     ]
    }
   ],
   "source": [
    "iris = datasets.load_iris()\n",
    "iris_data  = pd.DataFrame(iris.data, columns=iris.feature_names)\n",
    "iris_data.columns = [c.replace(' (cm)', '').replace(' ', '_') for c in iris_data.columns]\n",
    "\n",
    "iris_label = pd.Series(data=iris.target)\n",
    "# 今回は2クラスに変更\n",
    "X = iris_data[iris_label != 2]\n",
    "y = iris_label[iris_label != 2]\n",
    "\n",
    "# # validation set は GridSearchCV が自動で作成してくれるため，\n",
    "# # training set と test set の分割のみを実行すればよい\n",
    "# data_train, data_test, \\\n",
    "#     label_train, label_test = model_selection.train_test_split(iris_data, \n",
    "#                                                                iris_label, \n",
    "#                                                                test_size = 0.2,\n",
    "#                                                                random_state = 0)\n",
    "\n",
    "# # 分析用\n",
    "# data_with_label = pd.concat([X, y], axis=1)\n",
    "# data_with_label.rename(columns={0: 'label'}, inplace=True)\n",
    "\n",
    "# sns.pairplot(data_with_label, hue='label')\n",
    "\n",
    "#dwl_grouped = data_with_label.groupby('label')\n",
    "#for name, dwl in dwl_grouped:\n",
    "#    dwl.plot."
   ]
  },
  {
   "cell_type": "markdown",
   "metadata": {},
   "source": [
    "### BaseEstimator を継承\n",
    "\n",
    "http://scikit-learn.org/stable/modules/generated/sklearn.base.BaseEstimator.html#sklearn.base.BaseEstimator\n",
    "\n",
    "\n",
    "- 自前のestimatorクラスはsklearn.base.BaseEstimatorを継承してつくる\n",
    "- cross_validationするためにはfit,scoreメソッドが必要\n",
    "- grid_searchするためには，さらにget_params,set_paramsメソッドが必要\n",
    "- ClassifierMixinまたはRegressorMixinを定義すると自分で実装したpredictを使ってスコアを計算する，scoreメソッドが使える．\n"
   ]
  },
  {
   "cell_type": "code",
   "execution_count": 11,
   "metadata": {},
   "outputs": [
    {
     "data": {
      "text/plain": [
       "0.98999999999999999"
      ]
     },
     "execution_count": 11,
     "metadata": {},
     "output_type": "execute_result"
    }
   ],
   "source": [
    "class MyEstimator(BaseEstimator, ClassifierMixin):\n",
    "    def __init__(self, **err_ths):\n",
    "        self.err_ths = err_ths\n",
    "\n",
    "    # 今回はしきい値による分類なので学習の必要なし\n",
    "    def fit(self, x, y):\n",
    "        return self\n",
    "\n",
    "    # 'or' の結果を返すように修正\n",
    "    def predict(self, x):\n",
    "        tmp = []\n",
    "        if len(self.err_ths) == 0:\n",
    "            return pd.Series([0] * len(x)) # 条件がないときはすべて正常としてみなす\n",
    "        for key, th in self.err_ths.items():\n",
    "            tmp.append(x[key] >= th)\n",
    "        df_predict = pd.concat(tmp, axis=1).any(axis=1)\n",
    "        return (df_predict * 1) # True/False を 1/0 に変更\n",
    "\n",
    "    # predict の結果と正解とを比較してスコアを返す\n",
    "    def score(self, x, y):\n",
    "        return accuracy_score(self.predict(x), y)\n",
    "    \n",
    "    #  deep: If True, will return the parameters for this estimator and\n",
    "    #        contained subobjects that are estimators. <- 今回は関係ない？\n",
    "    def get_params(self, deep=True):\n",
    "        return self.err_ths\n",
    "\n",
    "    def set_params(self, **parameters):\n",
    "        #print(parameters)\n",
    "        for parameter, value in parameters.items():\n",
    "            #setattr(self, parameter, value)\n",
    "            self.err_ths[parameter] = value\n",
    "                        \n",
    "        return self\n",
    "    \n",
    "my_est = MyEstimator(**{'petal_length': 3.2})\n",
    "my_est.set_params(**{'petal_length': 3.1})\n",
    "my_est.get_params()\n",
    "\n",
    "#my_est = MyEstimator()\n",
    "#my_est.predict(X)\n",
    "my_est.score(X, y)\n",
    "#cross_val_score(my_est,X,y,cv=3)\n",
    "#print(X, y)\n",
    "# my_est.score(data_test, label_test)\n",
    "# my_est.fit(data_train, label_test)\n"
   ]
  },
  {
   "cell_type": "markdown",
   "metadata": {
    "collapsed": true
   },
   "source": [
    "### SVM でクロスバリデーション ＆ グリッドサーチ"
   ]
  },
  {
   "cell_type": "code",
   "execution_count": 14,
   "metadata": {},
   "outputs": [
    {
     "name": "stdout",
     "output_type": "stream",
     "text": [
      "Best parameters: {'petal_length': 2.0, 'petal_width': 1.0, 'sepal_length': 6.0, 'sepal_width': 4.5}\n",
      "Best cross-validation: 1.0\n"
     ]
    }
   ],
   "source": [
    "\n",
    "# 探索するパラメータを設定\n",
    "param_grid = {'sepal_length': np.arange(4.0, 8.0, 0.5).tolist(), \n",
    "              'sepal_width' : np.arange(0.0, 5.0, 0.5).tolist(),\n",
    "              'petal_length': np.arange(2.0, 5.0, 0.5).tolist(),\n",
    "              'petal_width' : np.arange(0.0, 3.0, 0.5).tolist()\n",
    "             }\n",
    "\n",
    "my_est = MyEstimator()\n",
    "grid_search = GridSearchCV(my_est, param_grid, cv=2, n_jobs=1, scoring=\"accuracy\")\n",
    "\n",
    "# fit 関数を呼ぶことで交差検証とグリッドサーチがどちらも実行される\n",
    "grid_search.fit(X, y)\n",
    "\n",
    "print('Best parameters: {}'.format(grid_search.best_params_))\n",
    "print('Best cross-validation: {}'.format(grid_search.best_score_))\n",
    "\n",
    "# 通常の機械学習では、train でパラメータ学習、val でハイパーパラメータ探索、test で検証\n",
    "# しかし今回は、train でしきい値探索、val で検証とする\n",
    "\n",
    "# テストデータで検証\n",
    "#print('Test set score: {}'.format(grid_search.score(data_test, label_test)))\n"
   ]
  },
  {
   "cell_type": "code",
   "execution_count": 19,
   "metadata": {},
   "outputs": [],
   "source": [
    "# from mlxtend.plotting import plot_decision_regions\n",
    "\n",
    "# plot_decision_regions(X.values, y.values, clf=my_est, legend=2)\n"
   ]
  }
 ],
 "metadata": {
  "kernelspec": {
   "display_name": "Python 3",
   "language": "python",
   "name": "python3"
  },
  "language_info": {
   "codemirror_mode": {
    "name": "ipython",
    "version": 3
   },
   "file_extension": ".py",
   "mimetype": "text/x-python",
   "name": "python",
   "nbconvert_exporter": "python",
   "pygments_lexer": "ipython3",
   "version": "3.6.3"
  }
 },
 "nbformat": 4,
 "nbformat_minor": 2
}
